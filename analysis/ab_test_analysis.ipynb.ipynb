{
 "cells": [
  {
   "cell_type": "code",
   "execution_count": 2,
   "id": "3272ac5a-585e-422c-a499-f455cf59aeb9",
   "metadata": {},
   "outputs": [],
   "source": [
    "import pandas as pd\n",
    "import matplotlib.pyplot as plt\n",
    "import seaborn as sns\n",
    "from scipy.stats import ttest_ind"
   ]
  },
  {
   "cell_type": "code",
   "execution_count": 4,
   "id": "f6343d4b-aeda-4d72-af3f-690cc4050e56",
   "metadata": {},
   "outputs": [
    {
     "data": {
      "text/html": [
       "<div>\n",
       "<style scoped>\n",
       "    .dataframe tbody tr th:only-of-type {\n",
       "        vertical-align: middle;\n",
       "    }\n",
       "\n",
       "    .dataframe tbody tr th {\n",
       "        vertical-align: top;\n",
       "    }\n",
       "\n",
       "    .dataframe thead th {\n",
       "        text-align: right;\n",
       "    }\n",
       "</style>\n",
       "<table border=\"1\" class=\"dataframe\">\n",
       "  <thead>\n",
       "    <tr style=\"text-align: right;\">\n",
       "      <th></th>\n",
       "      <th>timestamp</th>\n",
       "      <th>user_id</th>\n",
       "      <th>group</th>\n",
       "      <th>clicked</th>\n",
       "    </tr>\n",
       "  </thead>\n",
       "  <tbody>\n",
       "    <tr>\n",
       "      <th>0</th>\n",
       "      <td>2025-03-26 16:36:02.884383</td>\n",
       "      <td>a522358a-3326-4c14-9ada-8fb5629aeb94</td>\n",
       "      <td>B</td>\n",
       "      <td>1</td>\n",
       "    </tr>\n",
       "    <tr>\n",
       "      <th>1</th>\n",
       "      <td>2025-03-26 16:36:34.545305</td>\n",
       "      <td>e4c7a5c2-f386-4ec7-8805-8aa890ab2806</td>\n",
       "      <td>B</td>\n",
       "      <td>1</td>\n",
       "    </tr>\n",
       "    <tr>\n",
       "      <th>2</th>\n",
       "      <td>2025-03-26 16:36:44.627415</td>\n",
       "      <td>be05da13-972d-4712-a00b-1fcc5fbeca88</td>\n",
       "      <td>A</td>\n",
       "      <td>1</td>\n",
       "    </tr>\n",
       "    <tr>\n",
       "      <th>3</th>\n",
       "      <td>2025-03-26 16:38:11.191192</td>\n",
       "      <td>393e7ca3-c7df-48c2-9340-b68109425e19</td>\n",
       "      <td>B</td>\n",
       "      <td>0</td>\n",
       "    </tr>\n",
       "    <tr>\n",
       "      <th>4</th>\n",
       "      <td>2025-03-26 16:38:56.769272</td>\n",
       "      <td>58887cbf-6b78-4132-9bb5-eaf1b5b0dab1</td>\n",
       "      <td>A</td>\n",
       "      <td>0</td>\n",
       "    </tr>\n",
       "  </tbody>\n",
       "</table>\n",
       "</div>"
      ],
      "text/plain": [
       "                    timestamp                               user_id group  \\\n",
       "0  2025-03-26 16:36:02.884383  a522358a-3326-4c14-9ada-8fb5629aeb94     B   \n",
       "1  2025-03-26 16:36:34.545305  e4c7a5c2-f386-4ec7-8805-8aa890ab2806     B   \n",
       "2  2025-03-26 16:36:44.627415  be05da13-972d-4712-a00b-1fcc5fbeca88     A   \n",
       "3  2025-03-26 16:38:11.191192  393e7ca3-c7df-48c2-9340-b68109425e19     B   \n",
       "4  2025-03-26 16:38:56.769272  58887cbf-6b78-4132-9bb5-eaf1b5b0dab1     A   \n",
       "\n",
       "   clicked  \n",
       "0        1  \n",
       "1        1  \n",
       "2        1  \n",
       "3        0  \n",
       "4        0  "
      ]
     },
     "execution_count": 4,
     "metadata": {},
     "output_type": "execute_result"
    }
   ],
   "source": [
    "# Load data from the CSV file\n",
    "df = pd.read_csv('../data/user_logs.csv')\n",
    "df.head()"
   ]
  },
  {
   "cell_type": "code",
   "execution_count": 6,
   "id": "c56b1127-506e-4a6b-b24e-08f9400be6d9",
   "metadata": {},
   "outputs": [
    {
     "name": "stdout",
     "output_type": "stream",
     "text": [
      "<class 'pandas.core.frame.DataFrame'>\n",
      "RangeIndex: 10205 entries, 0 to 10204\n",
      "Data columns (total 4 columns):\n",
      " #   Column     Non-Null Count  Dtype \n",
      "---  ------     --------------  ----- \n",
      " 0   timestamp  10205 non-null  object\n",
      " 1   user_id    10205 non-null  object\n",
      " 2   group      10205 non-null  object\n",
      " 3   clicked    10205 non-null  int64 \n",
      "dtypes: int64(1), object(3)\n",
      "memory usage: 319.0+ KB\n"
     ]
    },
    {
     "data": {
      "text/plain": [
       "clicked\n",
       "1    5185\n",
       "0    5020\n",
       "Name: count, dtype: int64"
      ]
     },
     "execution_count": 6,
     "metadata": {},
     "output_type": "execute_result"
    }
   ],
   "source": [
    "df.info()\n",
    "df.isnull().sum()\n",
    "df['group'].value_counts()\n",
    "df['clicked'].value_counts()\n"
   ]
  },
  {
   "cell_type": "code",
   "execution_count": 8,
   "id": "dfadd796-2ef6-4ce6-b233-2e4596dcd102",
   "metadata": {},
   "outputs": [
    {
     "data": {
      "text/html": [
       "<div>\n",
       "<style scoped>\n",
       "    .dataframe tbody tr th:only-of-type {\n",
       "        vertical-align: middle;\n",
       "    }\n",
       "\n",
       "    .dataframe tbody tr th {\n",
       "        vertical-align: top;\n",
       "    }\n",
       "\n",
       "    .dataframe thead th {\n",
       "        text-align: right;\n",
       "    }\n",
       "</style>\n",
       "<table border=\"1\" class=\"dataframe\">\n",
       "  <thead>\n",
       "    <tr style=\"text-align: right;\">\n",
       "      <th></th>\n",
       "      <th>total_users</th>\n",
       "      <th>total_clicks</th>\n",
       "      <th>conversion_rate</th>\n",
       "    </tr>\n",
       "    <tr>\n",
       "      <th>group</th>\n",
       "      <th></th>\n",
       "      <th></th>\n",
       "      <th></th>\n",
       "    </tr>\n",
       "  </thead>\n",
       "  <tbody>\n",
       "    <tr>\n",
       "      <th>A</th>\n",
       "      <td>5004</td>\n",
       "      <td>1563</td>\n",
       "      <td>0.312350</td>\n",
       "    </tr>\n",
       "    <tr>\n",
       "      <th>B</th>\n",
       "      <td>5201</td>\n",
       "      <td>3622</td>\n",
       "      <td>0.696405</td>\n",
       "    </tr>\n",
       "  </tbody>\n",
       "</table>\n",
       "</div>"
      ],
      "text/plain": [
       "       total_users  total_clicks  conversion_rate\n",
       "group                                            \n",
       "A             5004          1563         0.312350\n",
       "B             5201          3622         0.696405"
      ]
     },
     "execution_count": 8,
     "metadata": {},
     "output_type": "execute_result"
    }
   ],
   "source": [
    "summary = df.groupby('group')['clicked'].agg(['count', 'sum', 'mean'])\n",
    "summary.columns = ['total_users', 'total_clicks', 'conversion_rate']\n",
    "summary\n"
   ]
  },
  {
   "cell_type": "code",
   "execution_count": 10,
   "id": "54c70212-3196-4f97-8dad-b53ffb77c2b5",
   "metadata": {},
   "outputs": [
    {
     "name": "stdout",
     "output_type": "stream",
     "text": [
      "T-statistic: -42.0127\n",
      "P-value: 0.0\n"
     ]
    }
   ],
   "source": [
    "group_a = df[df['group'] == 'A']['clicked']\n",
    "group_b = df[df['group'] == 'B']['clicked']\n",
    "\n",
    "t_stat, p_val = ttest_ind(group_a, group_b)\n",
    "\n",
    "print(\"T-statistic:\", round(t_stat, 4))\n",
    "print(\"P-value:\", round(p_val, 4))\n"
   ]
  },
  {
   "cell_type": "code",
   "execution_count": 12,
   "id": "864a1917-634b-44b4-86b3-4acbb76ecb0b",
   "metadata": {},
   "outputs": [
    {
     "name": "stderr",
     "output_type": "stream",
     "text": [
      "C:\\Users\\tanzi\\AppData\\Local\\Temp\\ipykernel_13412\\1635349506.py:2: FutureWarning: \n",
      "\n",
      "The `ci` parameter is deprecated. Use `errorbar=('ci', 95)` for the same effect.\n",
      "\n",
      "  sns.barplot(data=df, x='group', y='clicked', ci=95)\n"
     ]
    },
    {
     "data": {
      "image/png": "[encoded data removed]",
      "text/plain": [
       "<Figure size 640x480 with 1 Axes>"
      ]
     },
     "metadata": {},
     "output_type": "display_data"
    }
   ],
   "source": [
    "sns.set(style=\"whitegrid\")\n",
    "sns.barplot(data=df, x='group', y='clicked', ci=95)\n",
    "plt.title('Conversion Rate by Group (A/B Test)')\n",
    "plt.ylabel('Conversion Rate')\n",
    "plt.xlabel('Group')\n",
    "plt.ylim(0, 1)\n",
    "plt.show()\n"
   ]
  },
  {
   "cell_type": "code",
   "execution_count": 16,
   "id": "1eef262c-8557-4dca-b61f-ad245156a547",
   "metadata": {},
   "outputs": [],
   "source": [
    "summary.to_csv(\"ab_test_summary.csv\")"
   ]
  },
  {
   "cell_type": "code",
   "execution_count": 18,
   "id": "753fe90c-c8ba-456f-b68a-d5a03760315a",
   "metadata": {},
   "outputs": [
    {
     "data": {
      "text/plain": [
       "<Figure size 640x480 with 0 Axes>"
      ]
     },
     "metadata": {},
     "output_type": "display_data"
    }
   ],
   "source": [
    "plt.savefig(\"conversion_rate_chart.png\")\n"
   ]
  },
  {
   "cell_type": "code",
   "execution_count": null,
   "id": "82ccbd2f-ea33-4074-8c72-dab1c04631a1",
   "metadata": {},
   "outputs": [],
   "source": []
  }
 ],
 "metadata": {
  "kernelspec": {
   "display_name": "Python [conda env:base] *",
   "language": "python",
   "name": "conda-base-py"
  },
  "language_info": {
   "codemirror_mode": {
    "name": "ipython",
    "version": 3
   },
   "file_extension": ".py",
   "mimetype": "text/x-python",
   "name": "python",
   "nbconvert_exporter": "python",
   "pygments_lexer": "ipython3",
   "version": "3.12.7"
  }
 },
 "nbformat": 4,
 "nbformat_minor": 5
}
